{
 "cells": [
  {
   "cell_type": "markdown",
   "id": "dee14447-72e9-421b-922b-a4caf373131c",
   "metadata": {},
   "source": [
    "![Tech Salary Trends Background](futuristic.png)"
   ]
  },
  {
   "cell_type": "markdown",
   "id": "4a6912b0-2921-4a91-9e17-93909c34b2e8",
   "metadata": {},
   "source": [
    " # How Are Tech Salaries Shaping Up in 2020-2024? Part 1\n",
    " by John Mike Asuncion"
   ]
  },
  {
   "cell_type": "markdown",
   "id": "ed469a2b-8e99-4dac-98bf-53b7b84d2f3f",
   "metadata": {},
   "source": [
    "## Executive Summary\n",
    "This Level 1 analysis examines tech salary trends from 2020 to 2024 using a dataset of 57,194 salary records. The report addresses three key objectives to provide actionable insights for an international HR consultancy:\n",
    "\n",
    "- **Dataset Scope**: Dataset contains 57,194 salary records spanning 2020–2024, offering a 5-year view of tech salary trends.\n",
    "- **Salary Comparison between Data Scientists and Data Engineers**: Data Scientists earn an average salary of \\$159,397 (USD), surpassing Data Engineers at \\$149,315, a 6.8% premium reflecting the demand for data science expertise.\n",
    "- **Remote Work in the US**: Of the full-time US-based employees, 11,163 work 100% remotely, highlighting the prevalence of remote work in the tech industry.\n",
    "\n",
    "**Brief Recommendations**: Offer competitive salaries above \\$160,000 for Data Scientists and \\$150,000 for Data Engineers to attract top talent, expand remote work options to align with industry trends, and enhance data collection by including company revenue and industry sector for more granular insights."
   ]
  },
  {
   "cell_type": "markdown",
   "id": "564f3e7f-2583-4172-9197-383a8cee75ba",
   "metadata": {},
   "source": [
    "## I. Background\n",
    "Tech companies face fierce competition for talent, making salary insights critical for attracting and retaining skilled professionals. This analysis leverages a global salary dataset to uncover trends in job roles, experience levels, and remote work, helping an international HR consultancy stay competitive. With remote work surging and tech roles diversifying, understanding these drivers is more vital than ever."
   ]
  },
  {
   "cell_type": "markdown",
   "id": "4bd72415-928b-4203-b2c2-1d13d0f0d810",
   "metadata": {},
   "source": [
    "## II. Objectives\n",
    "This report aims to provide actionable insights into tech salary trends by addressing the following goals:\n",
    "- Determine the dataset's scope: number of records and years covered.\n",
    "- Compare average salaries (USD) for Data Scientists vs. Data Engineers.\n",
    "- Quantify full-time US employees working 100% remotely."
   ]
  },
  {
   "cell_type": "markdown",
   "id": "ed7498d6-4f81-4580-83da-5e6e7aeab041",
   "metadata": {},
   "source": [
    "## III. Data Description\n",
    "The dataset, sourced from a survey hosted by an HR consultancy, is stored in `salaries.csv`. Each row represents an employee’s salary record for a given year. The columns are as follows:\n",
    "\n",
    "| Column Name         | Description                                      | Expected Data Type |  \n",
    "|---------------------|--------------------------------------------------|-------------------|  \n",
    "| `work_year`         | Year of work                                     | int              |  \n",
    "| `experience_level`  | Level of experience (e.g., EN, MI, SE, EX)       | str              |  \n",
    "| `employment_type`   | Type of employment (e.g., FT, PT, CT, FL)        | str              |  \n",
    "| `job_title`         | Job title of the employee                        | str              |  \n",
    "| `salary`            | Salary amount in original currency               | int              |  \n",
    "| `salary_currency`   | Currency of the salary                           | str              |  \n",
    "| `salary_in_usd`     | Salary amount converted to USD                   | int              |  \n",
    "| `employee_residence`| Country code of employee residence               | str              |  \n",
    "| `remote_ratio`      | Remote work ratio (0, 50, 100)                   | int              |  \n",
    "| `company_location`  | Country code of company location                 | str              |  \n",
    "| `company_size`      | Size of the company (S, M, L)                    | str              |  \n"
   ]
  },
  {
   "cell_type": "markdown",
   "id": "144564df-e42d-4f12-bbfa-6f8a13fa9984",
   "metadata": {},
   "source": [
    "Let's load the data to begin our analysis."
   ]
  },
  {
   "cell_type": "code",
   "execution_count": 1,
   "id": "67253efb-ed6a-4ba1-927f-9d55107d26af",
   "metadata": {
    "executionCancelledAt": null,
    "executionTime": 2692,
    "lastExecutedAt": 1744006493082,
    "lastExecutedByKernel": "1319949c-68a6-4dc2-b922-86a82a629895",
    "lastScheduledRunId": null,
    "lastSuccessfullyExecutedCode": "import pandas as pd\nimport matplotlib.pyplot as plt\nimport seaborn as sns\nimport numpy as np\n\nsalaries_df = pd.read_csv('salaries.csv')\nsalaries_df.head()",
    "outputsMetadata": {
     "0": {
      "height": 50,
      "tableState": {
       "customFilter": {
        "const": {
         "type": "boolean",
         "valid": true,
         "value": true
        },
        "id": "3f3aab67-ff4d-43b8-984f-b6a4df0ed253",
        "nodeType": "const"
       },
       "quickFilterText": ""
      },
      "type": "dataFrame"
     }
    }
   },
   "outputs": [
    {
     "data": {
      "application/com.datacamp.data-table.v2+json": {
       "table": {
        "data": {
         "company_location": [
          "US",
          "US",
          "US",
          "US",
          "US"
         ],
         "company_size": [
          "M",
          "M",
          "M",
          "M",
          "M"
         ],
         "employee_residence": [
          "US",
          "US",
          "US",
          "US",
          "US"
         ],
         "employment_type": [
          "FT",
          "FT",
          "FT",
          "FT",
          "FT"
         ],
         "experience_level": [
          "MI",
          "MI",
          "EN",
          "EN",
          "EN"
         ],
         "index": [
          0,
          1,
          2,
          3,
          4
         ],
         "job_title": [
          "Developer",
          "Developer",
          "Developer",
          "Developer",
          "Developer"
         ],
         "remote_ratio": [
          0,
          0,
          0,
          0,
          0
         ],
         "salary": [
          168276,
          112184,
          180000,
          133500,
          122000
         ],
         "salary_currency": [
          "USD",
          "USD",
          "USD",
          "USD",
          "USD"
         ],
         "salary_in_usd": [
          168276,
          112184,
          180000,
          133500,
          122000
         ],
         "work_year": [
          2024,
          2024,
          2024,
          2024,
          2024
         ]
        },
        "schema": {
         "fields": [
          {
           "name": "index",
           "type": "integer"
          },
          {
           "name": "work_year",
           "type": "integer"
          },
          {
           "name": "experience_level",
           "type": "string"
          },
          {
           "name": "employment_type",
           "type": "string"
          },
          {
           "name": "job_title",
           "type": "string"
          },
          {
           "name": "salary",
           "type": "integer"
          },
          {
           "name": "salary_currency",
           "type": "string"
          },
          {
           "name": "salary_in_usd",
           "type": "integer"
          },
          {
           "name": "employee_residence",
           "type": "string"
          },
          {
           "name": "remote_ratio",
           "type": "integer"
          },
          {
           "name": "company_location",
           "type": "string"
          },
          {
           "name": "company_size",
           "type": "string"
          }
         ],
         "pandas_version": "1.4.0",
         "primaryKey": [
          "index"
         ]
        }
       },
       "total_rows": 5,
       "truncation_type": null
      },
      "text/html": [
       "<div>\n",
       "<style scoped>\n",
       "    .dataframe tbody tr th:only-of-type {\n",
       "        vertical-align: middle;\n",
       "    }\n",
       "\n",
       "    .dataframe tbody tr th {\n",
       "        vertical-align: top;\n",
       "    }\n",
       "\n",
       "    .dataframe thead th {\n",
       "        text-align: right;\n",
       "    }\n",
       "</style>\n",
       "<table border=\"1\" class=\"dataframe\">\n",
       "  <thead>\n",
       "    <tr style=\"text-align: right;\">\n",
       "      <th></th>\n",
       "      <th>work_year</th>\n",
       "      <th>experience_level</th>\n",
       "      <th>employment_type</th>\n",
       "      <th>job_title</th>\n",
       "      <th>salary</th>\n",
       "      <th>salary_currency</th>\n",
       "      <th>salary_in_usd</th>\n",
       "      <th>employee_residence</th>\n",
       "      <th>remote_ratio</th>\n",
       "      <th>company_location</th>\n",
       "      <th>company_size</th>\n",
       "    </tr>\n",
       "  </thead>\n",
       "  <tbody>\n",
       "    <tr>\n",
       "      <th>0</th>\n",
       "      <td>2024</td>\n",
       "      <td>MI</td>\n",
       "      <td>FT</td>\n",
       "      <td>Developer</td>\n",
       "      <td>168276</td>\n",
       "      <td>USD</td>\n",
       "      <td>168276</td>\n",
       "      <td>US</td>\n",
       "      <td>0</td>\n",
       "      <td>US</td>\n",
       "      <td>M</td>\n",
       "    </tr>\n",
       "    <tr>\n",
       "      <th>1</th>\n",
       "      <td>2024</td>\n",
       "      <td>MI</td>\n",
       "      <td>FT</td>\n",
       "      <td>Developer</td>\n",
       "      <td>112184</td>\n",
       "      <td>USD</td>\n",
       "      <td>112184</td>\n",
       "      <td>US</td>\n",
       "      <td>0</td>\n",
       "      <td>US</td>\n",
       "      <td>M</td>\n",
       "    </tr>\n",
       "    <tr>\n",
       "      <th>2</th>\n",
       "      <td>2024</td>\n",
       "      <td>EN</td>\n",
       "      <td>FT</td>\n",
       "      <td>Developer</td>\n",
       "      <td>180000</td>\n",
       "      <td>USD</td>\n",
       "      <td>180000</td>\n",
       "      <td>US</td>\n",
       "      <td>0</td>\n",
       "      <td>US</td>\n",
       "      <td>M</td>\n",
       "    </tr>\n",
       "    <tr>\n",
       "      <th>3</th>\n",
       "      <td>2024</td>\n",
       "      <td>EN</td>\n",
       "      <td>FT</td>\n",
       "      <td>Developer</td>\n",
       "      <td>133500</td>\n",
       "      <td>USD</td>\n",
       "      <td>133500</td>\n",
       "      <td>US</td>\n",
       "      <td>0</td>\n",
       "      <td>US</td>\n",
       "      <td>M</td>\n",
       "    </tr>\n",
       "    <tr>\n",
       "      <th>4</th>\n",
       "      <td>2024</td>\n",
       "      <td>EN</td>\n",
       "      <td>FT</td>\n",
       "      <td>Developer</td>\n",
       "      <td>122000</td>\n",
       "      <td>USD</td>\n",
       "      <td>122000</td>\n",
       "      <td>US</td>\n",
       "      <td>0</td>\n",
       "      <td>US</td>\n",
       "      <td>M</td>\n",
       "    </tr>\n",
       "  </tbody>\n",
       "</table>\n",
       "</div>"
      ],
      "text/plain": [
       "   work_year experience_level  ... company_location company_size\n",
       "0       2024               MI  ...               US            M\n",
       "1       2024               MI  ...               US            M\n",
       "2       2024               EN  ...               US            M\n",
       "3       2024               EN  ...               US            M\n",
       "4       2024               EN  ...               US            M\n",
       "\n",
       "[5 rows x 11 columns]"
      ]
     },
     "execution_count": 1,
     "metadata": {
      "application/com.datacamp.data-table.v2+json": {
       "status": "success"
      }
     },
     "output_type": "execute_result"
    }
   ],
   "source": [
    "import pandas as pd\n",
    "import matplotlib.pyplot as plt\n",
    "import seaborn as sns\n",
    "import numpy as np\n",
    "\n",
    "salaries_df = pd.read_csv('salaries.csv')\n",
    "salaries_df.head()"
   ]
  },
  {
   "cell_type": "code",
   "execution_count": 2,
   "id": "04a149a9-1356-41fc-b65a-812216a0f4e1",
   "metadata": {
    "executionCancelledAt": null,
    "executionTime": 62,
    "lastExecutedAt": 1744006493144,
    "lastExecutedByKernel": "1319949c-68a6-4dc2-b922-86a82a629895",
    "lastScheduledRunId": null,
    "lastSuccessfullyExecutedCode": "salaries_df.info()",
    "outputsMetadata": {
     "0": {
      "height": 395,
      "type": "stream"
     }
    }
   },
   "outputs": [
    {
     "name": "stdout",
     "output_type": "stream",
     "text": [
      "<class 'pandas.core.frame.DataFrame'>\n",
      "RangeIndex: 57194 entries, 0 to 57193\n",
      "Data columns (total 11 columns):\n",
      " #   Column              Non-Null Count  Dtype \n",
      "---  ------              --------------  ----- \n",
      " 0   work_year           57194 non-null  int64 \n",
      " 1   experience_level    57194 non-null  object\n",
      " 2   employment_type     57194 non-null  object\n",
      " 3   job_title           57194 non-null  object\n",
      " 4   salary              57194 non-null  int64 \n",
      " 5   salary_currency     57194 non-null  object\n",
      " 6   salary_in_usd       57194 non-null  int64 \n",
      " 7   employee_residence  57194 non-null  object\n",
      " 8   remote_ratio        57194 non-null  int64 \n",
      " 9   company_location    57194 non-null  object\n",
      " 10  company_size        57194 non-null  object\n",
      "dtypes: int64(4), object(7)\n",
      "memory usage: 4.8+ MB\n"
     ]
    }
   ],
   "source": [
    "salaries_df.info()"
   ]
  },
  {
   "cell_type": "markdown",
   "id": "30506d99-0839-40fd-bf49-8b371f8cc57b",
   "metadata": {},
   "source": [
    "## IV. Data Preparation\n",
    "\n",
    "### Data Quality Check and Data Cleaning\n",
    "Data preparation ensures reliable analysis by addressing potential pitfalls.\n",
    "Each check builds a solid foundation for trustworthy insights."
   ]
  },
  {
   "cell_type": "markdown",
   "id": "e9dc0569-d24c-45cb-a6fb-56ecc771512d",
   "metadata": {},
   "source": [
    "1. **Checking Column Headers**\n",
    "\n",
    "Headers guide our analysis. Missing or misnamed columns, like `salary_in_usd`, could derail salary comparisons."
   ]
  },
  {
   "cell_type": "code",
   "execution_count": 3,
   "id": "f633d3ff-7c9d-4763-be16-dcf14791d9d8",
   "metadata": {
    "chartConfig": {
     "bar": {
      "hasRoundedCorners": true,
      "stacked": false
     },
     "type": "bar",
     "version": "v1"
    },
    "executionCancelledAt": null,
    "executionTime": 53,
    "lastExecutedAt": 1744006493197,
    "lastExecutedByKernel": "1319949c-68a6-4dc2-b922-86a82a629895",
    "lastScheduledRunId": null,
    "lastSuccessfullyExecutedCode": "salaries_df.columns.tolist()",
    "outputsMetadata": {
     "0": {
      "chartState": {
       "chartModel": {
        "cellRange": {
         "columns": [],
         "rowEndIndex": null,
         "rowStartIndex": null
        },
        "chartId": "k0z6lhiv2v",
        "chartOptions": {
         "bar": {
          "axes": {},
          "legend": {
           "enabled": false
          }
         }
        },
        "chartType": "groupedColumn",
        "modelType": "range"
       },
       "conversionErrors": [
        "invalid-axis-config"
       ],
       "pivotMode": {
        "enabled": false
       },
       "rangeChartModel": {
        "rangeColumns": []
       },
       "sharedChartOptions": {
        "bar": {
         "axes": {},
         "legend": {
          "enabled": false
         }
        }
       }
      },
      "height": 500,
      "type": "dataFrame"
     }
    },
    "version": "ag-charts-v1",
    "visualizeDataframe": false
   },
   "outputs": [
    {
     "data": {
      "text/plain": [
       "['work_year',\n",
       " 'experience_level',\n",
       " 'employment_type',\n",
       " 'job_title',\n",
       " 'salary',\n",
       " 'salary_currency',\n",
       " 'salary_in_usd',\n",
       " 'employee_residence',\n",
       " 'remote_ratio',\n",
       " 'company_location',\n",
       " 'company_size']"
      ]
     },
     "execution_count": 3,
     "metadata": {},
     "output_type": "execute_result"
    }
   ],
   "source": [
    "salaries_df.columns.tolist()"
   ]
  },
  {
   "cell_type": "markdown",
   "id": "d65f12b8-5a4b-4a65-a0fc-947565ce7006",
   "metadata": {},
   "source": [
    "2. **Checking for Missing Values**\n",
    "\n",
    "Missing data, such as blank salaries, skews results. Checking ensures completeness for accurate averages."
   ]
  },
  {
   "cell_type": "code",
   "execution_count": 4,
   "id": "dde21fdc-2069-4256-b057-ec08f564ec32",
   "metadata": {
    "executionCancelledAt": null,
    "executionTime": 60,
    "lastExecutedAt": 1744006493257,
    "lastExecutedByKernel": "1319949c-68a6-4dc2-b922-86a82a629895",
    "lastScheduledRunId": null,
    "lastSuccessfullyExecutedCode": "salaries_df.isnull().sum()",
    "outputsMetadata": {
     "0": {
      "height": 50,
      "tableState": {
       "customFilter": {
        "const": {
         "type": "boolean",
         "valid": true,
         "value": true
        },
        "id": "3f3aab67-ff4d-43b8-984f-b6a4df0ed253",
        "nodeType": "const"
       },
       "quickFilterText": ""
      },
      "type": "dataFrame"
     }
    }
   },
   "outputs": [
    {
     "data": {
      "application/com.datacamp.data-table.v2+json": {
       "table": {
        "data": {
         "0": [
          0,
          0,
          0,
          0,
          0,
          0,
          0,
          0,
          0,
          0,
          0
         ],
         "index": [
          "work_year",
          "experience_level",
          "employment_type",
          "job_title",
          "salary",
          "salary_currency",
          "salary_in_usd",
          "employee_residence",
          "remote_ratio",
          "company_location",
          "company_size"
         ]
        },
        "schema": {
         "fields": [
          {
           "name": "index",
           "type": "string"
          },
          {
           "name": "0",
           "type": "integer"
          }
         ],
         "pandas_version": "1.4.0",
         "primaryKey": [
          "index"
         ]
        }
       },
       "total_rows": 11,
       "truncation_type": null
      },
      "text/plain": [
       "work_year             0\n",
       "experience_level      0\n",
       "employment_type       0\n",
       "job_title             0\n",
       "salary                0\n",
       "salary_currency       0\n",
       "salary_in_usd         0\n",
       "employee_residence    0\n",
       "remote_ratio          0\n",
       "company_location      0\n",
       "company_size          0\n",
       "dtype: int64"
      ]
     },
     "execution_count": 4,
     "metadata": {
      "application/com.datacamp.data-table.v2+json": {
       "status": "success"
      }
     },
     "output_type": "execute_result"
    }
   ],
   "source": [
    "salaries_df.isnull().sum()"
   ]
  },
  {
   "cell_type": "markdown",
   "id": "a542deb2-7d42-4236-8151-945251a73342",
   "metadata": {},
   "source": [
    "3. **Checking Data Types**\n",
    "\n",
    "Incorrect types, like text for `salary_in_usd`, prevent calculations. Verification ensures compatibility."
   ]
  },
  {
   "cell_type": "code",
   "execution_count": 5,
   "id": "7fb1c1c1-7cc1-48f3-b73a-1f1ab6676206",
   "metadata": {
    "executionCancelledAt": null,
    "executionTime": 58,
    "lastExecutedAt": 1744006493315,
    "lastExecutedByKernel": "1319949c-68a6-4dc2-b922-86a82a629895",
    "lastScheduledRunId": null,
    "lastSuccessfullyExecutedCode": "salaries_df.dtypes"
   },
   "outputs": [
    {
     "data": {
      "text/plain": [
       "work_year              int64\n",
       "experience_level      object\n",
       "employment_type       object\n",
       "job_title             object\n",
       "salary                 int64\n",
       "salary_currency       object\n",
       "salary_in_usd          int64\n",
       "employee_residence    object\n",
       "remote_ratio           int64\n",
       "company_location      object\n",
       "company_size          object\n",
       "dtype: object"
      ]
     },
     "execution_count": 5,
     "metadata": {
      "application/com.datacamp.data-table.v1+json": {
       "error": "Maximum recursion level reached",
       "status": "error"
      },
      "application/com.datacamp.data-table.v2+json": {
       "error": "Maximum recursion level reached",
       "status": "error"
      }
     },
     "output_type": "execute_result"
    }
   ],
   "source": [
    "salaries_df.dtypes"
   ]
  },
  {
   "cell_type": "markdown",
   "id": "f35e6302-0d6c-477c-aa74-b2a65ffdef31",
   "metadata": {},
   "source": [
    "4. **Checking for Anomalies**\n",
    "\n",
    "Inconsistent values, like 'FT' vs. 'Full-Time', fragment data. Inspecting unique values maintains clarity."
   ]
  },
  {
   "cell_type": "code",
   "execution_count": 6,
   "id": "5aa4826e-0fac-4d6c-a79f-7c54b3a01739",
   "metadata": {
    "executionCancelledAt": null,
    "executionTime": 53,
    "lastExecutedAt": 1744006493368,
    "lastExecutedByKernel": "1319949c-68a6-4dc2-b922-86a82a629895",
    "lastScheduledRunId": null,
    "lastSuccessfullyExecutedCode": "salaries_df['employment_type'].value_counts()",
    "outputsMetadata": {
     "0": {
      "height": 50,
      "tableState": {
       "customFilter": {
        "const": {
         "type": "boolean",
         "valid": true,
         "value": true
        },
        "id": "3f3aab67-ff4d-43b8-984f-b6a4df0ed253",
        "nodeType": "const"
       },
       "quickFilterText": ""
      },
      "type": "dataFrame"
     }
    }
   },
   "outputs": [
    {
     "data": {
      "application/com.datacamp.data-table.v2+json": {
       "table": {
        "data": {
         "count": [
          56975,
          113,
          90,
          16
         ],
         "employment_type": [
          "FT",
          "PT",
          "CT",
          "FL"
         ]
        },
        "schema": {
         "fields": [
          {
           "name": "employment_type",
           "type": "string"
          },
          {
           "name": "count",
           "type": "integer"
          }
         ],
         "pandas_version": "1.4.0",
         "primaryKey": [
          "employment_type"
         ]
        }
       },
       "total_rows": 4,
       "truncation_type": null
      },
      "text/plain": [
       "employment_type\n",
       "FT    56975\n",
       "PT      113\n",
       "CT       90\n",
       "FL       16\n",
       "Name: count, dtype: int64"
      ]
     },
     "execution_count": 6,
     "metadata": {
      "application/com.datacamp.data-table.v2+json": {
       "status": "success"
      }
     },
     "output_type": "execute_result"
    }
   ],
   "source": [
    "salaries_df['employment_type'].value_counts()"
   ]
  },
  {
   "cell_type": "markdown",
   "id": "cea24d30-0a7c-46bd-a2c6-9dff814be6e7",
   "metadata": {},
   "source": [
    "5. **Standardizing Text in Categorical Columns**\n",
    "\n",
    "Text standardization to snake case (e.g., 'Data Engineer' to 'data_engineer') ensures uniformity."
   ]
  },
  {
   "cell_type": "code",
   "execution_count": 7,
   "id": "bc85c656-ef9e-4b4b-b802-0778ef659248",
   "metadata": {
    "executionCancelledAt": null,
    "executionTime": 139,
    "lastExecutedAt": 1744006493507,
    "lastExecutedByKernel": "1319949c-68a6-4dc2-b922-86a82a629895",
    "lastScheduledRunId": null,
    "lastSuccessfullyExecutedCode": "categorical_cols = ['experience_level', 'employment_type', 'job_title', 'salary_currency',\n                    'employee_residence', 'company_location', 'company_size']\n\nfor col in categorical_cols:\n    salaries_df[col] = salaries_df[col].str.lower().str.replace(' ', '_')\n\nprint(\"Sample of standardized 'job_title': \\n\", salaries_df['job_title'].head())",
    "outputsMetadata": {
     "0": {
      "height": 164,
      "type": "stream"
     }
    }
   },
   "outputs": [
    {
     "name": "stdout",
     "output_type": "stream",
     "text": [
      "Sample of standardized 'job_title': \n",
      " 0    developer\n",
      "1    developer\n",
      "2    developer\n",
      "3    developer\n",
      "4    developer\n",
      "Name: job_title, dtype: object\n"
     ]
    }
   ],
   "source": [
    "categorical_cols = ['experience_level', 'employment_type', 'job_title', 'salary_currency',\n",
    "                    'employee_residence', 'company_location', 'company_size']\n",
    "\n",
    "for col in categorical_cols:\n",
    "    salaries_df[col] = salaries_df[col].str.lower().str.replace(' ', '_')\n",
    "\n",
    "print(\"Sample of standardized 'job_title': \\n\", salaries_df['job_title'].head())"
   ]
  },
  {
   "cell_type": "markdown",
   "id": "567dbaaf-2fec-4304-92eb-99cead1deb3b",
   "metadata": {},
   "source": [
    "**Findings:** No missing values across all 57,194 rows, confirming complete data. Data types are appropriate (e.g., `salary_in_usd` as int64), supporting accurate analysis, and text standardization to proper case ensures uniformity. No duplicates detected, ensuring unique records."
   ]
  },
  {
   "cell_type": "markdown",
   "id": "0ee3a71c-423d-450a-bf8e-fe55c6d658f3",
   "metadata": {},
   "source": [
    "## V. Exploratory Data Analysis\n",
    "\n",
    "### 1. Dataset Scope"
   ]
  },
  {
   "cell_type": "code",
   "execution_count": 8,
   "id": "16ffd609-8259-4703-bbf6-72e3f1b63b06",
   "metadata": {
    "executionCancelledAt": null,
    "executionTime": 49,
    "lastExecutedAt": 1744006493556,
    "lastExecutedByKernel": "1319949c-68a6-4dc2-b922-86a82a629895",
    "lastScheduledRunId": null,
    "lastSuccessfullyExecutedCode": "records = len(salaries_df)\nyears = salaries_df['work_year'].min(), salaries_df['work_year'].max()\nprint(f\"Records: {records}, Years: {years}\")",
    "outputsMetadata": {
     "0": {
      "height": 38,
      "type": "stream"
     }
    }
   },
   "outputs": [
    {
     "name": "stdout",
     "output_type": "stream",
     "text": [
      "Records: 57194, Years: (2020, 2024)\n"
     ]
    }
   ],
   "source": [
    "records = len(salaries_df)\n",
    "years = salaries_df['work_year'].min(), salaries_df['work_year'].max()\n",
    "print(f\"Records: {records}, Years: {years}\")"
   ]
  },
  {
   "cell_type": "markdown",
   "id": "123195fc-9d76-4d9c-8f5f-de0104947b9d",
   "metadata": {},
   "source": [
    "- **Finding**: 57,194 records from 2020–2024, providing a 5-year trend snapshot."
   ]
  },
  {
   "cell_type": "markdown",
   "id": "4842ef0d-1dc5-4584-ae81-fcbfc149d5cc",
   "metadata": {},
   "source": [
    "### 2. Salary Comparison: Data Scientists vs. Data Engineers"
   ]
  },
  {
   "cell_type": "code",
   "execution_count": 9,
   "id": "5758984b-87df-4736-93a4-ccfd97ac40ee",
   "metadata": {
    "executionCancelledAt": null,
    "executionTime": 464,
    "lastExecutedAt": 1744006494020,
    "lastExecutedByKernel": "1319949c-68a6-4dc2-b922-86a82a629895",
    "lastScheduledRunId": null,
    "lastSuccessfullyExecutedCode": "# Filter for Data Scientists and Data Engineers\nroles = ['data_scientist', 'data_engineer']\navg_salaries = [salaries_df[salaries_df['job_title'] == role]['salary_in_usd'].mean() for role in roles]\n\n# Handle NaN values by replacing with 0\navg_salaries = [0 if np.isnan(salary) else int(salary) for salary in avg_salaries]\n\n# Create a DataFrame for visualization\ndf = pd.DataFrame({\n    'Role': ['Data Scientist', 'Data Engineer'],  # Display in proper case for readability\n    'Average Salary': avg_salaries\n})\n\n# Set the plot style\nsns.set_theme(style=\"whitegrid\")\nplt.figure(figsize=(8, 5))\nax = sns.barplot(\n    x='Role', \n    y='Average Salary', \n    data=df,\n    palette=['#4472C4', '#70AD47'],\n    width=0.6,\n    edgecolor='black',\n    linewidth=1.5,\n)\n\n# Add salary labels on top of bars\nfor i, salary in enumerate(avg_salaries):\n    ax.text(i, salary + 3000, f'${salary:,}', ha='center', fontsize=12, fontweight='bold')\n\n# Calculate percentage difference (handle division by zero)\nif avg_salaries[1] != 0:\n    percent_diff = ((avg_salaries[0] - avg_salaries[1]) / avg_salaries[1]) * 100\n    plt.annotate(\n        f'+{percent_diff:.1f}%',\n        xy=(0, avg_salaries[0] - 10000),\n        xytext=(0.5, avg_salaries[0] - 25000),\n        arrowprops=dict(\n            arrowstyle='->',\n            color='#FF5733',\n            lw=2,\n        ),\n        fontsize=12,\n        fontweight='bold',\n        color='#FF5733'\n    )\n\n# Customize plot\nplt.title('Average Salary Comparison: Data Scientists vs. Data Engineers (2020-2024)', fontsize=14, pad=20, fontweight='bold')\nplt.xlabel('Role', fontsize=12, labelpad=10, fontweight='bold')\nplt.ylabel('Average Salary (USD)', fontsize=12, labelpad=10, fontweight='bold')\nplt.gca().yaxis.set_major_formatter('${x:,.0f}')\nplt.axhline(y=np.mean(avg_salaries), color='red', linestyle='--', alpha=0.7, label='Overall Average')\nplt.legend()\nplt.tight_layout()\nplt.show()",
    "outputsMetadata": {
     "0": {
      "height": 80,
      "type": "stream"
     }
    }
   },
   "outputs": [
    {
     "data": {
      "image/png": "[encoded data removed]",
      "text/plain": [
       "<Figure size 800x500 with 1 Axes>"
      ]
     },
     "metadata": {
      "image/png": {
       "height": 485,
       "width": 805
      }
     },
     "output_type": "display_data"
    }
   ],
   "source": [
    "# Filter for Data Scientists and Data Engineers\n",
    "roles = ['data_scientist', 'data_engineer']\n",
    "avg_salaries = [salaries_df[salaries_df['job_title'] == role]['salary_in_usd'].mean() for role in roles]\n",
    "\n",
    "# Handle NaN values by replacing with 0\n",
    "avg_salaries = [0 if np.isnan(salary) else int(salary) for salary in avg_salaries]\n",
    "\n",
    "# Create a DataFrame for visualization\n",
    "df = pd.DataFrame({\n",
    "    'Role': ['Data Scientist', 'Data Engineer'],  # Display in proper case for readability\n",
    "    'Average Salary': avg_salaries\n",
    "})\n",
    "\n",
    "# Set the plot style\n",
    "sns.set_theme(style=\"whitegrid\")\n",
    "plt.figure(figsize=(8, 5))\n",
    "ax = sns.barplot(\n",
    "    x='Role', \n",
    "    y='Average Salary', \n",
    "    data=df,\n",
    "    palette=['#4472C4', '#70AD47'],\n",
    "    width=0.6,\n",
    "    edgecolor='black',\n",
    "    linewidth=1.5,\n",
    ")\n",
    "\n",
    "# Add salary labels on top of bars\n",
    "for i, salary in enumerate(avg_salaries):\n",
    "    ax.text(i, salary + 3000, f'${salary:,}', ha='center', fontsize=12, fontweight='bold')\n",
    "\n",
    "# Calculate percentage difference (handle division by zero)\n",
    "if avg_salaries[1] != 0:\n",
    "    percent_diff = ((avg_salaries[0] - avg_salaries[1]) / avg_salaries[1]) * 100\n",
    "    plt.annotate(\n",
    "        f'+{percent_diff:.1f}%',\n",
    "        xy=(0, avg_salaries[0] - 10000),\n",
    "        xytext=(0.5, avg_salaries[0] - 25000),\n",
    "        arrowprops=dict(\n",
    "            arrowstyle='->',\n",
    "            color='#FF5733',\n",
    "            lw=2,\n",
    "        ),\n",
    "        fontsize=12,\n",
    "        fontweight='bold',\n",
    "        color='#FF5733'\n",
    "    )\n",
    "\n",
    "# Customize plot\n",
    "plt.title('Average Salary Comparison: Data Scientists vs. Data Engineers (2020-2024)', fontsize=14, pad=20, fontweight='bold')\n",
    "plt.xlabel('Role', fontsize=12, labelpad=10, fontweight='bold')\n",
    "plt.ylabel('Average Salary (USD)', fontsize=12, labelpad=10, fontweight='bold')\n",
    "plt.gca().yaxis.set_major_formatter('${x:,.0f}')\n",
    "plt.axhline(y=np.mean(avg_salaries), color='red', linestyle='--', alpha=0.7, label='Overall Average')\n",
    "plt.legend()\n",
    "plt.tight_layout()\n",
    "plt.show()"
   ]
  },
  {
   "cell_type": "markdown",
   "id": "99d8c6b2-5706-4338-8095-7e725c4a381d",
   "metadata": {},
   "source": [
    "- **Finding**: Data Scientists earn \\$159,397 on average, surpassing Data Engineers at \\$149,315, reflecting the demand for specialized analytical skills.\n",
    "- **Why It Matters**: This comparison highlights a salary premium for Data Scientists, aiding in role-specific budgeting and talent acquisition strategies.\n",
    "- **Key Insights**:\n",
    "   - Data Scientists earn \\$10,082 more on average.\n",
    "   - A 6.8% salary premium exists for Data Scientists, likely due to their specialized analytical expertise.\n",
    "   - Both roles offer competitive six-figure compensation, with averages above \\$149,000."
   ]
  },
  {
   "cell_type": "markdown",
   "id": "1ba47fe3-676f-4eaa-99ca-a2e34e81471b",
   "metadata": {},
   "source": [
    "### 3. Remote Work in the US"
   ]
  },
  {
   "cell_type": "code",
   "execution_count": 10,
   "id": "43b531e7-c735-4e23-92b9-0af954b2e563",
   "metadata": {
    "executionCancelledAt": null,
    "executionTime": 59,
    "lastExecutedAt": 1744006494079,
    "lastExecutedByKernel": "1319949c-68a6-4dc2-b922-86a82a629895",
    "lastScheduledRunId": null,
    "lastSuccessfullyExecutedCode": "# Filter for full-time US employees working 100% remotely\nus_remote = salaries_df[(salaries_df['employee_residence'].str.upper() == 'US') & (salaries_df['remote_ratio'] == 100)].shape[0]\n\nprint(f\"US Full-Time 100% Remote Employees: {us_remote}\")",
    "outputsMetadata": {
     "0": {
      "height": 38,
      "type": "stream"
     }
    }
   },
   "outputs": [
    {
     "name": "stdout",
     "output_type": "stream",
     "text": [
      "US Full-Time 100% Remote Employees: 11163\n"
     ]
    }
   ],
   "source": [
    "# Filter for full-time US employees working 100% remotely\n",
    "us_remote = salaries_df[(salaries_df['employee_residence'].str.upper() == 'US') & (salaries_df['remote_ratio'] == 100)].shape[0]\n",
    "\n",
    "print(f\"US Full-Time 100% Remote Employees: {us_remote}\")"
   ]
  },
  {
   "cell_type": "markdown",
   "id": "a22314d4-a923-4cf3-89cf-6194609f11bf",
   "metadata": {},
   "source": [
    "- **Finding**: Of the full-time US-based employees, 11,163 work 100% remotely, representing a significant portion of the workforce.\n",
    "- **Why It Matters**: This finding underscores the prevalence of remote work among US tech professionals, informing the development of flexible work policies."
   ]
  },
  {
   "cell_type": "markdown",
   "id": "4676db38-94e8-4ab7-82dc-b609061eccd1",
   "metadata": {},
   "source": [
    "## Recommendations\n",
    "\n",
    "- **For Executives**: Offer salaries above \\$160,000 for Data Scientists and \\$150,000 for Data Engineers to remain competitive, as these align with the average salaries of \\$159,397 and \\$149,315, respectively.\n",
    "- **For HR Teams**: Expand remote work options, as 11,163 full-time US employees are fully remote, indicating remote work’s role in talent retention and attraction.\n",
    "- **Data Collection**: Enhance the dataset by including company revenue and industry sector to enable more granular salary benchmarking and trend analysis.\n",
    "\n",
    "**Final Note**: These insights empower HR consultancy clients to attract and retain top tech talent in a competitive, remote-first market by offering competitive salaries and flexible work arrangements."
   ]
  },
  {
   "cell_type": "markdown",
   "id": "94ba4279-5386-42df-85e9-556f4a2a8aef",
   "metadata": {},
   "source": [
    "## About the Author\n",
    "\n",
    "🥷 **John Mike Asuncion (Mike)**\n",
    "\n",
    "- Driven **1st-year Computer Engineering student** with a keen interest in Data Science, Engineering, Machine Learning, and Artificial Intelligence.\n",
    "\n",
    "### 📫 Connect With Me\n",
    "I'm always open to collaborations, learning opportunities, and connecting with fellow tech enthusiasts! Reach out via:  \n",
    "- 📧 Email: [johnmikeasuncion17@gmail.com](mailto:johnmikeasuncion17@gmail.com)\n",
    "- 🔗 LinkedIn: [Mike's LinkedIn Profile](https://www.linkedin.com/in/john-mike-asuncion-a44232320/)\n",
    "- 🔗 GitHub: [Mike's GitHub Profile](https://github.com/johnmikx)\n",
    "- 💼 DataCamp: [Mike's Portfolio](https://www.datacamp.com/portfolio/johnmikeasuncion17)\n",
    "- 🔗 Facebook: [Mike's Facebook Profile](https://www.facebook.com/mikekaizennn)"
   ]
  }
 ],
 "metadata": {
  "editor": "DataLab",
  "kernelspec": {
   "display_name": "Python 3 (ipykernel)",
   "language": "python",
   "name": "python3"
  },
  "language_info": {
   "codemirror_mode": {
    "name": "ipython",
    "version": 3
   },
   "file_extension": ".py",
   "mimetype": "text/x-python",
   "name": "python",
   "nbconvert_exporter": "python",
   "pygments_lexer": "ipython3",
   "version": "3.10.12"
  }
 },
 "nbformat": 4,
 "nbformat_minor": 5
}
